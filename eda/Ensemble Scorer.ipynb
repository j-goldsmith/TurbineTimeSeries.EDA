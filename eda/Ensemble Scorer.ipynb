{
 "cells": [
  {
   "cell_type": "code",
   "execution_count": 7,
   "metadata": {
    "collapsed": true
   },
   "outputs": [],
   "source": [
    "import pandas as pd\n",
    "from sklearn.metrics import classification_report, accuracy_score"
   ]
  },
  {
   "cell_type": "code",
   "execution_count": 14,
   "metadata": {
    "collapsed": true
   },
   "outputs": [],
   "source": [
    "## weights will be {col_name1: weight1, col_name2: weight2, etc.}\n",
    "\n",
    "def ensemble_scorer(scores_df, weights, threshold):\n",
    "    column_list = list(weights.keys())\n",
    "    scores_df['ensemble_score']=0\n",
    "    for i in column_list:\n",
    "        scores_df['ensemble_score'] = scores_df['ensemble_score'] + scores_df[i]*weights[i]\n",
    "    \n",
    "    scores_df['ensemble_score'] = scores_df['ensemble_score'].apply(lambda x: 1 if x >=threshold else 0)\n",
    "    \n",
    "    return(scores_df)\n",
    "    \n",
    "    \n",
    "def ensemble_metrics(scores_df):\n",
    "    \n",
    "    metr = classification_report(scores_df['POWERCOLUMN'], scores_df['ensemble_score'], target_names = ['Normal','Transient'])\n",
    "    \n",
    "    return(metr)\n",
    "    \n",
    "    \n",
    "def ensemble_accuracy(scores_df):\n",
    "    \n",
    "    acc =accuracy_score(scores_df['POWERCOLUMN'], scores_df['ensemble_scores'])\n",
    "    \n",
    "    return(acc)"
   ]
  }
 ],
 "metadata": {
  "kernelspec": {
   "display_name": "Python 3",
   "language": "python",
   "name": "python3"
  },
  "language_info": {
   "codemirror_mode": {
    "name": "ipython",
    "version": 3
   },
   "file_extension": ".py",
   "mimetype": "text/x-python",
   "name": "python",
   "nbconvert_exporter": "python",
   "pygments_lexer": "ipython3",
   "version": "3.6.2"
  }
 },
 "nbformat": 4,
 "nbformat_minor": 2
}
