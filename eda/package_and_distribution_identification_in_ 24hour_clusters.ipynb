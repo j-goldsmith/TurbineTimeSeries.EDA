{
 "cells": [
  {
   "cell_type": "markdown",
   "metadata": {},
   "source": [
    "# Package and distribution identification in 24 hour clusters\n",
    "\n",
    "Goal: \n",
    "    \n",
    "    Determine package contribution to the 24 hour load profile clusters and which clusters each package belongs to most.\n",
    "\n",
    "Purpose:\n",
    "\n",
    "    Identify differences in load profiles.\n",
    "\n",
    "## Steps:\n",
    "\n",
    "A. Processing data for 24 hour analyses:\n",
    "\n",
    "    ● Drop sparse packages without any complete days \n",
    "    ● Drop engine starts and engine hour tags\n",
    "    ● Drop records with any nulls \n",
    "    ● Standardize features to 0 mean and unit variance \n",
    "    ● PCA on sensor data, each row a point in time with 70 features The top eigenvectors for Model 2, differing from Model 1, correspond to temperature (Eigenvector 1) and actuator states, which correspond to the positions of the various valves throughout the package (Eigenvector 2). Eigenvectors 3 and 4 are less clear cut, but are related to pressure.  \n",
    "    \n",
    "B. Clustering\n",
    "\n",
    "    To understand these daily behaviors better, we ran the K-Means clustering algorithm on all 24 hour segments from all packages. \n",
    "    \n",
    "Types of patterns seen:\n",
    "    \n",
    "    ● A relatively stable daily fluctuation. This pattern represents normal operating and dominates most of the clusters. Each cluster represents a different load on the package. We have found each package typically has a high and low operating modes.\n",
    "    ● Normal operating interrupted by one or more jumps between operating modes.\n",
    "    ● Normal operating interrupted by a quick, sharp spike. This pattern represents transient states as defined in Modeling->Analytic Approach.\n",
    "    \n",
    "C. Given clusters of 24 hour load profiles (Model 2, 10 minute data) determine:\n",
    "    \n",
    "    1. For each of the 225 district clusters, which packages contribute to the cluster (ie. cluster 1 is composed of 10% psn 56, 4% of 63, 3% of 62, etc.)\n",
    "    2. For each package, determine which clusters the package belongs to most (ie. psn 56 belongs 50% to cluster 1, 30% cluster 3, 2% to cluster 223, etc. This might suggest that this package has mostly steady single load behavior, with a couple conditions of step size shifts."
   ]
  },
  {
   "cell_type": "code",
   "execution_count": null,
   "metadata": {
    "collapsed": true
   },
   "outputs": [],
   "source": []
  },
  {
   "cell_type": "code",
   "execution_count": 1,
   "metadata": {
    "collapsed": true
   },
   "outputs": [],
   "source": [
    "import pandas as pd\n",
    "import numpy as np\n",
    "import seaborn as sns\n",
    "import matplotlib.pyplot as plt\n",
    "import matplotlib.patches as mpatches\n",
    "\n",
    "from sklearn.decomposition import PCA\n",
    "from sklearn.preprocessing import StandardScaler\n",
    "from sklearn.cluster import KMeans, SpectralClustering\n",
    "from sklearn import metrics\n",
    "\n",
    "from sqlalchemy import create_engine\n",
    "from datetime import datetime, timedelta\n",
    "import matplotlib.dates as mdates\n",
    "from matplotlib.lines import Line2D\n",
    "import matplotlib.cm as cm\n",
    "import matplotlib\n",
    "from TurbineTimeSeries.storage import MachineDataStore\n",
    "#from TurbineTimeSeries.transformations import PCA, StandardScaler, DropCols, DropSparseCols, LeftJoin"
   ]
  },
  {
   "cell_type": "code",
   "execution_count": 2,
   "metadata": {},
   "outputs": [
    {
     "data": {
      "text/html": [
       "<div>\n",
       "<style scoped>\n",
       "    .dataframe tbody tr th:only-of-type {\n",
       "        vertical-align: middle;\n",
       "    }\n",
       "\n",
       "    .dataframe tbody tr th {\n",
       "        vertical-align: top;\n",
       "    }\n",
       "\n",
       "    .dataframe thead th {\n",
       "        text-align: right;\n",
       "    }\n",
       "</style>\n",
       "<table border=\"1\" class=\"dataframe\">\n",
       "  <thead>\n",
       "    <tr style=\"text-align: right;\">\n",
       "      <th></th>\n",
       "      <th>id</th>\n",
       "      <th>lo_c_dp1</th>\n",
       "      <th>f_c_dp1</th>\n",
       "      <th>f_c_dp2</th>\n",
       "      <th>f_c_dp5</th>\n",
       "      <th>pe_c_dt1</th>\n",
       "      <th>g_c_dt1</th>\n",
       "      <th>g_c_dt2</th>\n",
       "      <th>lo_c_dt5</th>\n",
       "      <th>c_dt5_1</th>\n",
       "      <th>...</th>\n",
       "      <th>v_d_2b</th>\n",
       "      <th>lo_t5</th>\n",
       "      <th>g_t2</th>\n",
       "      <th>f_t1</th>\n",
       "      <th>sum_enr</th>\n",
       "      <th>g_t3</th>\n",
       "      <th>g_pct1</th>\n",
       "      <th>f_pos1</th>\n",
       "      <th>timestamp</th>\n",
       "      <th>psn</th>\n",
       "    </tr>\n",
       "  </thead>\n",
       "  <tbody>\n",
       "    <tr>\n",
       "      <th>0</th>\n",
       "      <td>695266</td>\n",
       "      <td>0.222639</td>\n",
       "      <td>-0.07692</td>\n",
       "      <td>-0.144226</td>\n",
       "      <td>0.169858</td>\n",
       "      <td>0.544444</td>\n",
       "      <td>0.400</td>\n",
       "      <td>0.426</td>\n",
       "      <td>0.514118</td>\n",
       "      <td>0.052722</td>\n",
       "      <td>...</td>\n",
       "      <td>0.174914</td>\n",
       "      <td>0.725217</td>\n",
       "      <td>0.825143</td>\n",
       "      <td>0.4965</td>\n",
       "      <td>5156.214177</td>\n",
       "      <td>0.5748</td>\n",
       "      <td>0.17770</td>\n",
       "      <td>0.335336</td>\n",
       "      <td>2016-12-30 21:50:00.000002</td>\n",
       "      <td>56</td>\n",
       "    </tr>\n",
       "    <tr>\n",
       "      <th>1</th>\n",
       "      <td>695267</td>\n",
       "      <td>0.222639</td>\n",
       "      <td>-0.07692</td>\n",
       "      <td>-0.144249</td>\n",
       "      <td>0.170242</td>\n",
       "      <td>0.542222</td>\n",
       "      <td>0.402</td>\n",
       "      <td>0.440</td>\n",
       "      <td>0.514118</td>\n",
       "      <td>0.052944</td>\n",
       "      <td>...</td>\n",
       "      <td>0.174914</td>\n",
       "      <td>0.725217</td>\n",
       "      <td>0.829143</td>\n",
       "      <td>0.4995</td>\n",
       "      <td>5156.327595</td>\n",
       "      <td>0.5680</td>\n",
       "      <td>0.17483</td>\n",
       "      <td>0.335737</td>\n",
       "      <td>2016-12-30 21:59:59.999996</td>\n",
       "      <td>56</td>\n",
       "    </tr>\n",
       "    <tr>\n",
       "      <th>2</th>\n",
       "      <td>695268</td>\n",
       "      <td>0.214355</td>\n",
       "      <td>-0.07692</td>\n",
       "      <td>-0.144226</td>\n",
       "      <td>0.169667</td>\n",
       "      <td>0.540000</td>\n",
       "      <td>0.398</td>\n",
       "      <td>0.434</td>\n",
       "      <td>0.515294</td>\n",
       "      <td>0.052000</td>\n",
       "      <td>...</td>\n",
       "      <td>0.175829</td>\n",
       "      <td>0.725217</td>\n",
       "      <td>0.826857</td>\n",
       "      <td>0.4995</td>\n",
       "      <td>5156.441013</td>\n",
       "      <td>0.5768</td>\n",
       "      <td>0.16751</td>\n",
       "      <td>0.336138</td>\n",
       "      <td>2016-12-30 22:10:00.000001</td>\n",
       "      <td>56</td>\n",
       "    </tr>\n",
       "    <tr>\n",
       "      <th>3</th>\n",
       "      <td>695269</td>\n",
       "      <td>0.212352</td>\n",
       "      <td>-0.07692</td>\n",
       "      <td>-0.144249</td>\n",
       "      <td>0.169860</td>\n",
       "      <td>0.545556</td>\n",
       "      <td>0.396</td>\n",
       "      <td>0.456</td>\n",
       "      <td>0.512941</td>\n",
       "      <td>0.055667</td>\n",
       "      <td>...</td>\n",
       "      <td>0.175829</td>\n",
       "      <td>0.724348</td>\n",
       "      <td>0.833143</td>\n",
       "      <td>0.5005</td>\n",
       "      <td>5156.554430</td>\n",
       "      <td>0.5668</td>\n",
       "      <td>0.15817</td>\n",
       "      <td>0.335737</td>\n",
       "      <td>2016-12-30 22:19:59.999995</td>\n",
       "      <td>56</td>\n",
       "    </tr>\n",
       "    <tr>\n",
       "      <th>4</th>\n",
       "      <td>695270</td>\n",
       "      <td>0.224371</td>\n",
       "      <td>-0.07692</td>\n",
       "      <td>-0.144249</td>\n",
       "      <td>0.170242</td>\n",
       "      <td>0.548889</td>\n",
       "      <td>0.404</td>\n",
       "      <td>0.430</td>\n",
       "      <td>0.510588</td>\n",
       "      <td>0.047222</td>\n",
       "      <td>...</td>\n",
       "      <td>0.175829</td>\n",
       "      <td>0.723478</td>\n",
       "      <td>0.825714</td>\n",
       "      <td>0.4985</td>\n",
       "      <td>5156.668354</td>\n",
       "      <td>0.5696</td>\n",
       "      <td>0.17491</td>\n",
       "      <td>0.335336</td>\n",
       "      <td>2016-12-30 22:30:00.000000</td>\n",
       "      <td>56</td>\n",
       "    </tr>\n",
       "  </tbody>\n",
       "</table>\n",
       "<p>5 rows × 76 columns</p>\n",
       "</div>"
      ],
      "text/plain": [
       "       id  lo_c_dp1  f_c_dp1   f_c_dp2   f_c_dp5  pe_c_dt1  g_c_dt1  g_c_dt2  \\\n",
       "0  695266  0.222639 -0.07692 -0.144226  0.169858  0.544444    0.400    0.426   \n",
       "1  695267  0.222639 -0.07692 -0.144249  0.170242  0.542222    0.402    0.440   \n",
       "2  695268  0.214355 -0.07692 -0.144226  0.169667  0.540000    0.398    0.434   \n",
       "3  695269  0.212352 -0.07692 -0.144249  0.169860  0.545556    0.396    0.456   \n",
       "4  695270  0.224371 -0.07692 -0.144249  0.170242  0.548889    0.404    0.430   \n",
       "\n",
       "   lo_c_dt5   c_dt5_1 ...     v_d_2b     lo_t5      g_t2    f_t1      sum_enr  \\\n",
       "0  0.514118  0.052722 ...   0.174914  0.725217  0.825143  0.4965  5156.214177   \n",
       "1  0.514118  0.052944 ...   0.174914  0.725217  0.829143  0.4995  5156.327595   \n",
       "2  0.515294  0.052000 ...   0.175829  0.725217  0.826857  0.4995  5156.441013   \n",
       "3  0.512941  0.055667 ...   0.175829  0.724348  0.833143  0.5005  5156.554430   \n",
       "4  0.510588  0.047222 ...   0.175829  0.723478  0.825714  0.4985  5156.668354   \n",
       "\n",
       "     g_t3   g_pct1    f_pos1                  timestamp  psn  \n",
       "0  0.5748  0.17770  0.335336 2016-12-30 21:50:00.000002   56  \n",
       "1  0.5680  0.17483  0.335737 2016-12-30 21:59:59.999996   56  \n",
       "2  0.5768  0.16751  0.336138 2016-12-30 22:10:00.000001   56  \n",
       "3  0.5668  0.15817  0.335737 2016-12-30 22:19:59.999995   56  \n",
       "4  0.5696  0.17491  0.335336 2016-12-30 22:30:00.000000   56  \n",
       "\n",
       "[5 rows x 76 columns]"
      ]
     },
     "execution_count": 2,
     "metadata": {},
     "output_type": "execute_result"
    }
   ],
   "source": [
    "model_number = 2\n",
    "\n",
    "store = MachineDataStore('.config')\n",
    "\n",
    "model_data_hr = (store.query(model_number,'1hr')\n",
    "                 .not_null(['timestamp','psn'])\n",
    "                 .exclude_psn([44,52,54,70])\n",
    "                 .execute())\n",
    "\n",
    "model_data_min = (store.query(model_number,'10min')\n",
    "                  .not_null(['timestamp','psn'])\n",
    "                  .exclude_psn([44,52,54,70])\n",
    "                  .execute())\n",
    "\n",
    "model_data_min.head()"
   ]
  },
  {
   "cell_type": "code",
   "execution_count": 3,
   "metadata": {},
   "outputs": [
    {
     "data": {
      "text/plain": [
       "array([56, 63, 62, 68, 57, 40, 69, 38, 58, 45, 67, 55, 34, 53, 48, 51, 66,\n",
       "       42, 39, 60, 47, 37, 49, 50, 59, 35, 46, 64, 72, 61, 36, 65, 41, 71],\n",
       "      dtype=int64)"
      ]
     },
     "execution_count": 3,
     "metadata": {},
     "output_type": "execute_result"
    }
   ],
   "source": [
    "model_data_min['psn'].unique()"
   ]
  },
  {
   "cell_type": "code",
   "execution_count": 4,
   "metadata": {},
   "outputs": [
    {
     "data": {
      "text/plain": [
       "1602740"
      ]
     },
     "execution_count": 4,
     "metadata": {},
     "output_type": "execute_result"
    }
   ],
   "source": [
    "freq = '10min'\n",
    "model_data = model_data_min\n",
    "len(model_data)"
   ]
  },
  {
   "cell_type": "code",
   "execution_count": 5,
   "metadata": {
    "collapsed": true
   },
   "outputs": [],
   "source": [
    "skipped_cols = ['sum_esn','sum_eng_st', 'sum_eng_h']\n",
    "index_cols = ['id','timestamp','psn']\n",
    "data_cols = [c for c in model_data.columns if (c not in index_cols) and (c not in skipped_cols)]"
   ]
  },
  {
   "cell_type": "code",
   "execution_count": 6,
   "metadata": {
    "collapsed": true
   },
   "outputs": [],
   "source": [
    "missing_values = model_data.isnull().sum().sort_values()\n",
    "sparse_cols = [x for x in missing_values.index if missing_values[x] > 30000]\n",
    "clean_data_cols = [x for x in data_cols if x not in sparse_cols]"
   ]
  },
  {
   "cell_type": "code",
   "execution_count": 7,
   "metadata": {
    "collapsed": true
   },
   "outputs": [],
   "source": [
    "data = model_data[index_cols + clean_data_cols].dropna().reset_index()\n",
    "clean_data = StandardScaler().fit_transform(data[clean_data_cols])\n",
    "\n",
    "pca =  PCA().fit(clean_data)\n",
    "reduced = pca.transform(clean_data)"
   ]
  },
  {
   "cell_type": "code",
   "execution_count": 8,
   "metadata": {
    "collapsed": true
   },
   "outputs": [],
   "source": [
    "eigenvectors_to_segment = 4\n",
    "daily_segments = []\n",
    "\n",
    "for i in range(eigenvectors_to_segment):\n",
    "    daily_segments.append([])\n",
    "    \n",
    "for psn in data['psn'].sort_values().unique():\n",
    "    psn_data = pd.DataFrame(data[(data['psn'] == psn)])\n",
    "    \n",
    "    psn_data['iso'] = psn_data['timestamp'].apply(lambda x: x.isocalendar())\n",
    "    psn_data['week'] = psn_data['timestamp'].apply(lambda x: (x.isocalendar()[0],x.isocalendar()[1]))\n",
    "    psn_data['time'] = psn_data['timestamp'].apply(lambda x: x.time())\n",
    "\n",
    "    complete_days = (psn_data.groupby(by=['iso']).count()['id'] == 144)\n",
    "    psn_data['complete_day'] = psn_data['iso'].apply(lambda x: complete_days[x])\n",
    "    psn_data = psn_data[psn_data['complete_day'] == True]\n",
    "     \n",
    "    for d in psn_data['iso'].unique():\n",
    "        daily_data = (psn_data[psn_data['iso'] == d]).sort_values(by='time')\n",
    "        idx = daily_data.index\n",
    "        \n",
    "        for i in range(eigenvectors_to_segment):\n",
    "            daily_segments[i].append([x for x in reduced[idx,i]])\n",
    "\n",
    " "
   ]
  },
  {
   "cell_type": "code",
   "execution_count": null,
   "metadata": {
    "collapsed": true
   },
   "outputs": [],
   "source": []
  },
  {
   "cell_type": "code",
   "execution_count": 9,
   "metadata": {
    "collapsed": true,
    "scrolled": true
   },
   "outputs": [],
   "source": [
    "def plot_cluster_distribution():\n",
    "    plt.rcParams[\"figure.figsize\"] = (15,15)\n",
    "    fig = plt.figure(0)\n",
    "    ax1 = plt.subplot2grid((1,1), (0, 0))\n",
    "    ax1.bar(range(225),label_counts[:])\n",
    "    ax1.set_ylabel('Segment Count')\n",
    "    ax1.set_xlabel('Cluster')\n",
    "    plt.suptitle(\"Model {} Cluster Distributions for Eigenvector {}, 24 Hour Profiles\".format(model_number, j+1))\n",
    "    plt.grid(\"on\")\n",
    "    fig.savefig(\"model{}_kmeans_{}_eig{}_cluster_distribution.png\".format(model_number, n_clusters,j+1))\n",
    "       \n",
    "    plt.show()\n",
    "    \n",
    "def plot_cluster_grid():\n",
    "    plt.rcParams[\"figure.figsize\"] = (15,15)\n",
    "    plt.show()\n",
    "\n",
    "    grid_size = (n_clusters,1)\n",
    "    cluster_means = []\n",
    "\n",
    "    fig = plt.figure(0)\n",
    "    row = -1\n",
    "    shared_ax = None\n",
    "\n",
    "    for i,c in enumerate(labels_sorted_by_freq):\n",
    "        cluster_data = [to_be_clustered[j] for j in range(len(cluster.labels_)) if cluster.labels_[j] == c]\n",
    "        cluster_means.append(pd.DataFrame(cluster_data).mean())\n",
    "        \n",
    "        col = i%15\n",
    "        row = row if col > 0 else row+1\n",
    "        \n",
    "        ax = plt.subplot2grid((15,15), (row,col),sharey=shared_ax)\n",
    "        \n",
    "        ax.plot(pd.DataFrame(cluster_data).T,alpha=0.2, color='red')\n",
    "        plt.axis('off')\n",
    "        \n",
    "        if shared_ax is None:\n",
    "            shared_ax = ax     \n",
    "\n",
    "        \n",
    "    plt.suptitle(\"Model {} Eigenvector {}, 24 Hour Profiles\".format(model_number, j+1))  \n",
    "    fig.savefig(\"model{}_kmeans_{}_eig{}_cluster_grid.png\".format(model_number, n_clusters,j+1))\n",
    "    plt.close()\n",
    "    \n",
    "def plot_clusters(c_idx):\n",
    "    plt.rcParams[\"figure.figsize\"] = (14, 7)\n",
    "    for i, c in enumerate(c_idx):\n",
    "        cluster_data = [to_be_clustered[j] for j in range(len(cluster.labels_)) if cluster.labels_[j] == c]\n",
    "                \n",
    "        fig = plt.figure(0)\n",
    "        ax = plt.subplot2grid((1,1), (0,0))\n",
    "        ax.plot(pd.DataFrame(cluster_data).T,alpha=0.2, color='red')\n",
    "        ax.set_xlabel('Time of Day')\n",
    "        plt.suptitle(\"Model {} Eigenvector {}, 24 Hour Cluster {} \".format(model_number, j+1, i+1))  \n",
    "        fig.savefig(\"model{}_kmeans_{}_eig{}_cluster{}.png\".format(model_number, n_clusters,j+1, i+1))\n",
    "        plt.close()\n",
    "      "
   ]
  },
  {
   "cell_type": "code",
   "execution_count": 10,
   "metadata": {
    "scrolled": false
   },
   "outputs": [
    {
     "name": "stderr",
     "output_type": "stream",
     "text": [
      "C:\\Users\\ostus\\Anaconda3\\envs\\Capstone\\lib\\site-packages\\matplotlib\\cbook\\deprecation.py:107: MatplotlibDeprecationWarning: Passing one of 'on', 'true', 'off', 'false' as a boolean is deprecated; use an actual boolean (True/False) instead.\n",
      "  warnings.warn(message, mplDeprecation, stacklevel=1)\n"
     ]
    },
    {
     "data": {
      "image/png": "[encoded data removed]",
      "text/plain": [
       "<Figure size 1080x1080 with 1 Axes>"
      ]
     },
     "metadata": {},
     "output_type": "display_data"
    },
    {
     "data": {
      "image/png": "[encoded data removed]",
      "text/plain": [
       "<Figure size 1080x1080 with 1 Axes>"
      ]
     },
     "metadata": {},
     "output_type": "display_data"
    },
    {
     "data": {
      "image/png": "[encoded data removed]",
      "text/plain": [
       "<Figure size 1080x1080 with 1 Axes>"
      ]
     },
     "metadata": {},
     "output_type": "display_data"
    },
    {
     "data": {
      "image/png": "[encoded data removed]",
      "text/plain": [
       "<Figure size 1080x1080 with 1 Axes>"
      ]
     },
     "metadata": {},
     "output_type": "display_data"
    }
   ],
   "source": [
    "for j, daily_coefficients in enumerate(daily_segments):\n",
    "    to_be_clustered = daily_coefficients\n",
    "    n_clusters=225\n",
    "\n",
    "    cluster = KMeans(n_clusters)\n",
    "    cluster.fit(to_be_clustered)\n",
    "    label_df = pd.DataFrame(cluster.labels_)\n",
    "    label_counts = label_df[0].value_counts().sort_values(ascending=False)\n",
    "    labels_sorted_by_freq = list(label_counts.keys())\n",
    "    \n",
    "    plot_cluster_distribution()\n",
    "    plot_cluster_grid()\n",
    "    if j == 0:\n",
    "        plot_clusters(labels_sorted_by_freq)"
   ]
  },
  {
   "cell_type": "code",
   "execution_count": null,
   "metadata": {
    "collapsed": true
   },
   "outputs": [],
   "source": []
  }
 ],
 "metadata": {
  "kernelspec": {
   "display_name": "Python [conda env:Capstone]",
   "language": "python",
   "name": "conda-env-Capstone-py"
  },
  "language_info": {
   "codemirror_mode": {
    "name": "ipython",
    "version": 3
   },
   "file_extension": ".py",
   "mimetype": "text/x-python",
   "name": "python",
   "nbconvert_exporter": "python",
   "pygments_lexer": "ipython3",
   "version": "3.6.5"
  }
 },
 "nbformat": 4,
 "nbformat_minor": 2
}
