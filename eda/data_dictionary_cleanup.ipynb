{
 "cells": [
  {
   "cell_type": "code",
   "execution_count": 25,
   "metadata": {
    "collapsed": true
   },
   "outputs": [],
   "source": [
    "import pandas as pd"
   ]
  },
  {
   "cell_type": "code",
   "execution_count": 30,
   "metadata": {},
   "outputs": [],
   "source": [
    "data_dictionary1 = pd.read_csv('data_dictionary_model1.csv', encoding='latin1')\n",
    "data_dictionary1['tag'] = data_dictionary1['COLUMN_NAME'].str.lower()\n",
    "data_dictionary1 = data_dictionary1.set_index('tag')"
   ]
  },
  {
   "cell_type": "code",
   "execution_count": 31,
   "metadata": {},
   "outputs": [
    {
     "data": {
      "text/html": [
       "<div>\n",
       "<style scoped>\n",
       "    .dataframe tbody tr th:only-of-type {\n",
       "        vertical-align: middle;\n",
       "    }\n",
       "\n",
       "    .dataframe tbody tr th {\n",
       "        vertical-align: top;\n",
       "    }\n",
       "\n",
       "    .dataframe thead th {\n",
       "        text-align: right;\n",
       "    }\n",
       "</style>\n",
       "<table border=\"1\" class=\"dataframe\">\n",
       "  <thead>\n",
       "    <tr style=\"text-align: right;\">\n",
       "      <th></th>\n",
       "      <th>COLUMN_NAME</th>\n",
       "      <th>SUBSYSTEM</th>\n",
       "      <th>SUGGESTED INDEPENDENT VARIABLES</th>\n",
       "      <th>MEASUREMENT_TYPE</th>\n",
       "      <th>DESCRIPTION</th>\n",
       "      <th>DATA TYPE</th>\n",
       "    </tr>\n",
       "    <tr>\n",
       "      <th>tag</th>\n",
       "      <th></th>\n",
       "      <th></th>\n",
       "      <th></th>\n",
       "      <th></th>\n",
       "      <th></th>\n",
       "      <th></th>\n",
       "    </tr>\n",
       "  </thead>\n",
       "  <tbody>\n",
       "    <tr>\n",
       "      <th>t2_s1</th>\n",
       "      <td>T2_S1</td>\n",
       "      <td>GAS PATH</td>\n",
       "      <td>YES</td>\n",
       "      <td>TEMPERATURE DIFFERENTIAL</td>\n",
       "      <td>Temperature spread (max T2 - min T2)</td>\n",
       "      <td>float64</td>\n",
       "    </tr>\n",
       "    <tr>\n",
       "      <th>t5_1</th>\n",
       "      <td>T5_1</td>\n",
       "      <td>GAS PATH</td>\n",
       "      <td>NaN</td>\n",
       "      <td>TEMPERATURE</td>\n",
       "      <td>Temperature at T5</td>\n",
       "      <td>float64</td>\n",
       "    </tr>\n",
       "    <tr>\n",
       "      <th>c_c_dp1</th>\n",
       "      <td>C_C_DP1</td>\n",
       "      <td>GAS PATH</td>\n",
       "      <td>NaN</td>\n",
       "      <td>PRESSURE DIFFERENTIAL</td>\n",
       "      <td>Change in pressure. Calculated value. Should b...</td>\n",
       "      <td>float64</td>\n",
       "    </tr>\n",
       "    <tr>\n",
       "      <th>c_c_t5_1</th>\n",
       "      <td>C_C_T5_1</td>\n",
       "      <td>GAS PATH</td>\n",
       "      <td>NaN</td>\n",
       "      <td>TEMPERATURE</td>\n",
       "      <td>Average temperature across T5 sensors</td>\n",
       "      <td>float64</td>\n",
       "    </tr>\n",
       "    <tr>\n",
       "      <th>c_c_t5_2</th>\n",
       "      <td>C_C_T5_2</td>\n",
       "      <td>GAS PATH</td>\n",
       "      <td>NaN</td>\n",
       "      <td>TEMPERATURE DIFFERENTIAL</td>\n",
       "      <td>Temperature spread (max T5 - min T5). Calculat...</td>\n",
       "      <td>float64</td>\n",
       "    </tr>\n",
       "  </tbody>\n",
       "</table>\n",
       "</div>"
      ],
      "text/plain": [
       "         COLUMN_NAME SUBSYSTEM SUGGESTED INDEPENDENT VARIABLES  \\\n",
       "tag                                                              \n",
       "t2_s1          T2_S1  GAS PATH                             YES   \n",
       "t5_1            T5_1  GAS PATH                             NaN   \n",
       "c_c_dp1      C_C_DP1  GAS PATH                             NaN   \n",
       "c_c_t5_1    C_C_T5_1  GAS PATH                             NaN   \n",
       "c_c_t5_2    C_C_T5_2  GAS PATH                             NaN   \n",
       "\n",
       "                  MEASUREMENT_TYPE  \\\n",
       "tag                                  \n",
       "t2_s1     TEMPERATURE DIFFERENTIAL   \n",
       "t5_1                   TEMPERATURE   \n",
       "c_c_dp1      PRESSURE DIFFERENTIAL   \n",
       "c_c_t5_1               TEMPERATURE   \n",
       "c_c_t5_2  TEMPERATURE DIFFERENTIAL   \n",
       "\n",
       "                                                DESCRIPTION DATA TYPE  \n",
       "tag                                                                    \n",
       "t2_s1                  Temperature spread (max T2 - min T2)   float64  \n",
       "t5_1                                      Temperature at T5   float64  \n",
       "c_c_dp1   Change in pressure. Calculated value. Should b...   float64  \n",
       "c_c_t5_1              Average temperature across T5 sensors   float64  \n",
       "c_c_t5_2  Temperature spread (max T5 - min T5). Calculat...   float64  "
      ]
     },
     "execution_count": 31,
     "metadata": {},
     "output_type": "execute_result"
    }
   ],
   "source": [
    "data_dictionary1.head()"
   ]
  },
  {
   "cell_type": "code",
   "execution_count": 32,
   "metadata": {},
   "outputs": [
    {
     "data": {
      "text/plain": [
       "Index(['COLUMN_NAME', 'SUBSYSTEM', 'SUGGESTED INDEPENDENT VARIABLES',\n",
       "       'MEASUREMENT_TYPE', 'DESCRIPTION', 'DATA TYPE'],\n",
       "      dtype='object')"
      ]
     },
     "execution_count": 32,
     "metadata": {},
     "output_type": "execute_result"
    }
   ],
   "source": [
    "data_dictionary1.columns"
   ]
  },
  {
   "cell_type": "code",
   "execution_count": 33,
   "metadata": {},
   "outputs": [
    {
     "data": {
      "text/plain": [
       "TEMPERATURE                 43\n",
       "TEMPERATURE DIFFERENTIAL    26\n",
       "PRESSURE                    15\n",
       "DISPLACEMENT                12\n",
       "GAP VOLTAGE                 11\n",
       "PRESSURE DIFFERENTIAL        9\n",
       "ERROR                        5\n",
       "PERCENT                      5\n",
       "COMMAND                      4\n",
       "POSITION                     3\n",
       "COUNT                        3\n",
       "PRESSURE RATIO               2\n",
       "FORCE                        2\n",
       "STRING                       1\n",
       "VECTOR MAGNITUDE             1\n",
       "DATETIME                     1\n",
       "LEVEL (LENGTH)               1\n",
       "Name: MEASUREMENT_TYPE, dtype: int64"
      ]
     },
     "execution_count": 33,
     "metadata": {},
     "output_type": "execute_result"
    }
   ],
   "source": [
    "data_dictionary1.MEASUREMENT_TYPE.value_counts()"
   ]
  },
  {
   "cell_type": "code",
   "execution_count": 35,
   "metadata": {},
   "outputs": [
    {
     "data": {
      "text/plain": [
       "GAS PATH             79\n",
       "VIBRATION            23\n",
       "LUBE OIL SYSTEM      20\n",
       "FUEL                 16\n",
       "SUMMARY               4\n",
       "PACKAGE EQUIPMENT     2\n",
       "Name: SUBSYSTEM, dtype: int64"
      ]
     },
     "execution_count": 35,
     "metadata": {},
     "output_type": "execute_result"
    }
   ],
   "source": [
    "data_dictionary1['SUBSYSTEM'].value_counts()"
   ]
  },
  {
   "cell_type": "code",
   "execution_count": 36,
   "metadata": {},
   "outputs": [
    {
     "data": {
      "text/plain": [
       "YES    17\n",
       "Name: SUGGESTED INDEPENDENT VARIABLES, dtype: int64"
      ]
     },
     "execution_count": 36,
     "metadata": {},
     "output_type": "execute_result"
    }
   ],
   "source": [
    "data_dictionary1['SUGGESTED INDEPENDENT VARIABLES'].value_counts()"
   ]
  },
  {
   "cell_type": "code",
   "execution_count": 40,
   "metadata": {},
   "outputs": [],
   "source": [
    "data_dictionary2 = pd.read_csv('data_dictionary_model2.csv', encoding='latin1')\n",
    "data_dictionary2['tag'] = data_dictionary2['COLUMN_NAME'].str.lower()\n",
    "data_dictionary2 = data_dictionary2.set_index('tag')"
   ]
  },
  {
   "cell_type": "code",
   "execution_count": 41,
   "metadata": {},
   "outputs": [
    {
     "data": {
      "text/plain": [
       "TEMPERATURE                 21\n",
       "TEMPERATURE DIFFERENTIAL    10\n",
       "PRESSURE                     6\n",
       "PRESSURE DIFFERENTIAL        5\n",
       "CURRENT                      4\n",
       "ERROR                        4\n",
       "COUNT                        3\n",
       "DISPLACEMENT                 3\n",
       "COMMAND                      3\n",
       "PERCENT                      3\n",
       "POSITION                     2\n",
       "FORCE                        1\n",
       "ACCELERATION                 1\n",
       "SPEED                        1\n",
       "VECTOR MAGNITUDE             1\n",
       "AMPLITUDE                    1\n",
       "POWER                        1\n",
       "STRING                       1\n",
       "TEMPERATURE SPREAD           1\n",
       "ENERGY                       1\n",
       "DATETIME                     1\n",
       "POWER FACTOR                 1\n",
       "Name: MEASUREMENT_TYPE, dtype: int64"
      ]
     },
     "execution_count": 41,
     "metadata": {},
     "output_type": "execute_result"
    }
   ],
   "source": [
    "data_dictionary2.MEASUREMENT_TYPE.value_counts()"
   ]
  },
  {
   "cell_type": "code",
   "execution_count": 42,
   "metadata": {},
   "outputs": [
    {
     "data": {
      "text/plain": [
       "GAS PATH             29\n",
       "FUEL                 12\n",
       "GENERATOR            12\n",
       "LUBE OIL SYSTEM       8\n",
       "VIBRATION             6\n",
       "SUMMARY               5\n",
       "ENCLOSURE             2\n",
       "PACKAGE EQUIPMENT     1\n",
       "Name: SUBSYSTEM, dtype: int64"
      ]
     },
     "execution_count": 42,
     "metadata": {},
     "output_type": "execute_result"
    }
   ],
   "source": [
    "data_dictionary2['SUBSYSTEM'].value_counts()"
   ]
  },
  {
   "cell_type": "code",
   "execution_count": 43,
   "metadata": {},
   "outputs": [
    {
     "data": {
      "text/plain": [
       "YES    17\n",
       "Name: SUGGESTED INDEPENDENT VARIABLES, dtype: int64"
      ]
     },
     "execution_count": 43,
     "metadata": {},
     "output_type": "execute_result"
    }
   ],
   "source": [
    "data_dictionary1['SUGGESTED INDEPENDENT VARIABLES'].value_counts()"
   ]
  },
  {
   "cell_type": "code",
   "execution_count": null,
   "metadata": {
    "collapsed": true
   },
   "outputs": [],
   "source": []
  },
  {
   "cell_type": "code",
   "execution_count": null,
   "metadata": {
    "collapsed": true
   },
   "outputs": [],
   "source": []
  }
 ],
 "metadata": {
  "kernelspec": {
   "display_name": "Python [conda env:py36envir]",
   "language": "python",
   "name": "conda-env-py36envir-py"
  },
  "language_info": {
   "codemirror_mode": {
    "name": "ipython",
    "version": 3
   },
   "file_extension": ".py",
   "mimetype": "text/x-python",
   "name": "python",
   "nbconvert_exporter": "python",
   "pygments_lexer": "ipython3",
   "version": "3.6.2"
  }
 },
 "nbformat": 4,
 "nbformat_minor": 2
}
