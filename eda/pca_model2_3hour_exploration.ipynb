{
 "cells": [
  {
   "cell_type": "code",
   "execution_count": 1,
   "metadata": {
    "collapsed": true
   },
   "outputs": [],
   "source": [
    "import pandas as pd\n",
    "import numpy as np\n",
    "import seaborn as sns\n",
    "import matplotlib.pyplot as plt\n",
    "import matplotlib.patches as mpatches\n",
    "\n",
    "from sklearn.decomposition import PCA\n",
    "from sklearn.preprocessing import StandardScaler\n",
    "from sklearn.cluster import KMeans, SpectralClustering\n",
    "from sklearn import metrics\n",
    "\n",
    "from sqlalchemy import create_engine\n",
    "import datetime \n",
    "import matplotlib.dates as mdates\n",
    "from matplotlib.lines import Line2D\n",
    "import matplotlib.cm as cm\n",
    "import matplotlib\n",
    "from TurbineTimeSeries.storage import MachineDataStore\n",
    "#from TurbineTimeSeries.transformations import PCA, StandardScaler, DropCols, DropSparseCols, LeftJoin"
   ]
  },
  {
   "cell_type": "code",
   "execution_count": 2,
   "metadata": {},
   "outputs": [
    {
     "data": {
      "text/html": [
       "<div>\n",
       "<style scoped>\n",
       "    .dataframe tbody tr th:only-of-type {\n",
       "        vertical-align: middle;\n",
       "    }\n",
       "\n",
       "    .dataframe tbody tr th {\n",
       "        vertical-align: top;\n",
       "    }\n",
       "\n",
       "    .dataframe thead th {\n",
       "        text-align: right;\n",
       "    }\n",
       "</style>\n",
       "<table border=\"1\" class=\"dataframe\">\n",
       "  <thead>\n",
       "    <tr style=\"text-align: right;\">\n",
       "      <th></th>\n",
       "      <th>id</th>\n",
       "      <th>lo_c_dp1</th>\n",
       "      <th>f_c_dp1</th>\n",
       "      <th>f_c_dp2</th>\n",
       "      <th>f_c_dp5</th>\n",
       "      <th>pe_c_dt1</th>\n",
       "      <th>g_c_dt1</th>\n",
       "      <th>g_c_dt2</th>\n",
       "      <th>lo_c_dt5</th>\n",
       "      <th>c_dt5_1</th>\n",
       "      <th>...</th>\n",
       "      <th>v_d_2b</th>\n",
       "      <th>lo_t5</th>\n",
       "      <th>g_t2</th>\n",
       "      <th>f_t1</th>\n",
       "      <th>sum_enr</th>\n",
       "      <th>g_t3</th>\n",
       "      <th>g_pct1</th>\n",
       "      <th>f_pos1</th>\n",
       "      <th>timestamp</th>\n",
       "      <th>psn</th>\n",
       "    </tr>\n",
       "  </thead>\n",
       "  <tbody>\n",
       "    <tr>\n",
       "      <th>0</th>\n",
       "      <td>1</td>\n",
       "      <td>0.378187</td>\n",
       "      <td>0.337323</td>\n",
       "      <td>-0.181580</td>\n",
       "      <td>0.283768</td>\n",
       "      <td>0.546667</td>\n",
       "      <td>0.352</td>\n",
       "      <td>0.398</td>\n",
       "      <td>0.444706</td>\n",
       "      <td>-0.021556</td>\n",
       "      <td>...</td>\n",
       "      <td>0.167029</td>\n",
       "      <td>0.714348</td>\n",
       "      <td>0.836571</td>\n",
       "      <td>0.3800</td>\n",
       "      <td>22452.305823</td>\n",
       "      <td>0.8516</td>\n",
       "      <td>0.10789</td>\n",
       "      <td>0.213541</td>\n",
       "      <td>2017-06-26 12:00:11.999995</td>\n",
       "      <td>39</td>\n",
       "    </tr>\n",
       "    <tr>\n",
       "      <th>1</th>\n",
       "      <td>2</td>\n",
       "      <td>0.384455</td>\n",
       "      <td>0.304681</td>\n",
       "      <td>-0.062424</td>\n",
       "      <td>0.281090</td>\n",
       "      <td>0.578889</td>\n",
       "      <td>0.360</td>\n",
       "      <td>0.374</td>\n",
       "      <td>0.443529</td>\n",
       "      <td>-0.019334</td>\n",
       "      <td>...</td>\n",
       "      <td>0.170886</td>\n",
       "      <td>0.713913</td>\n",
       "      <td>0.829714</td>\n",
       "      <td>0.3775</td>\n",
       "      <td>22452.415190</td>\n",
       "      <td>0.8472</td>\n",
       "      <td>0.11142</td>\n",
       "      <td>0.216346</td>\n",
       "      <td>2017-06-26 12:10:00.000004</td>\n",
       "      <td>39</td>\n",
       "    </tr>\n",
       "    <tr>\n",
       "      <th>2</th>\n",
       "      <td>3</td>\n",
       "      <td>0.395580</td>\n",
       "      <td>0.256122</td>\n",
       "      <td>0.017021</td>\n",
       "      <td>0.284209</td>\n",
       "      <td>0.567778</td>\n",
       "      <td>0.366</td>\n",
       "      <td>0.398</td>\n",
       "      <td>0.444706</td>\n",
       "      <td>-0.022222</td>\n",
       "      <td>...</td>\n",
       "      <td>0.162286</td>\n",
       "      <td>0.713043</td>\n",
       "      <td>0.834857</td>\n",
       "      <td>0.3770</td>\n",
       "      <td>22452.642025</td>\n",
       "      <td>0.8476</td>\n",
       "      <td>0.11171</td>\n",
       "      <td>0.214744</td>\n",
       "      <td>2017-06-26 12:30:00.000003</td>\n",
       "      <td>39</td>\n",
       "    </tr>\n",
       "    <tr>\n",
       "      <th>3</th>\n",
       "      <td>4</td>\n",
       "      <td>0.388409</td>\n",
       "      <td>0.268359</td>\n",
       "      <td>-0.073769</td>\n",
       "      <td>0.282309</td>\n",
       "      <td>0.564444</td>\n",
       "      <td>0.352</td>\n",
       "      <td>0.372</td>\n",
       "      <td>0.447059</td>\n",
       "      <td>-0.019722</td>\n",
       "      <td>...</td>\n",
       "      <td>0.161743</td>\n",
       "      <td>0.713043</td>\n",
       "      <td>0.826286</td>\n",
       "      <td>0.3750</td>\n",
       "      <td>22452.753418</td>\n",
       "      <td>0.8620</td>\n",
       "      <td>0.10986</td>\n",
       "      <td>0.214342</td>\n",
       "      <td>2017-06-26 12:39:59.999997</td>\n",
       "      <td>39</td>\n",
       "    </tr>\n",
       "    <tr>\n",
       "      <th>4</th>\n",
       "      <td>5</td>\n",
       "      <td>0.385170</td>\n",
       "      <td>0.269397</td>\n",
       "      <td>-0.175926</td>\n",
       "      <td>0.281459</td>\n",
       "      <td>0.567778</td>\n",
       "      <td>0.324</td>\n",
       "      <td>0.380</td>\n",
       "      <td>0.447059</td>\n",
       "      <td>-0.020722</td>\n",
       "      <td>...</td>\n",
       "      <td>0.165914</td>\n",
       "      <td>0.713913</td>\n",
       "      <td>0.829714</td>\n",
       "      <td>0.3760</td>\n",
       "      <td>22452.866835</td>\n",
       "      <td>0.8788</td>\n",
       "      <td>0.10974</td>\n",
       "      <td>0.215144</td>\n",
       "      <td>2017-06-26 12:50:00.000002</td>\n",
       "      <td>39</td>\n",
       "    </tr>\n",
       "  </tbody>\n",
       "</table>\n",
       "<p>5 rows × 76 columns</p>\n",
       "</div>"
      ],
      "text/plain": [
       "   id  lo_c_dp1   f_c_dp1   f_c_dp2   f_c_dp5  pe_c_dt1  g_c_dt1  g_c_dt2  \\\n",
       "0   1  0.378187  0.337323 -0.181580  0.283768  0.546667    0.352    0.398   \n",
       "1   2  0.384455  0.304681 -0.062424  0.281090  0.578889    0.360    0.374   \n",
       "2   3  0.395580  0.256122  0.017021  0.284209  0.567778    0.366    0.398   \n",
       "3   4  0.388409  0.268359 -0.073769  0.282309  0.564444    0.352    0.372   \n",
       "4   5  0.385170  0.269397 -0.175926  0.281459  0.567778    0.324    0.380   \n",
       "\n",
       "   lo_c_dt5   c_dt5_1 ...     v_d_2b     lo_t5      g_t2    f_t1  \\\n",
       "0  0.444706 -0.021556 ...   0.167029  0.714348  0.836571  0.3800   \n",
       "1  0.443529 -0.019334 ...   0.170886  0.713913  0.829714  0.3775   \n",
       "2  0.444706 -0.022222 ...   0.162286  0.713043  0.834857  0.3770   \n",
       "3  0.447059 -0.019722 ...   0.161743  0.713043  0.826286  0.3750   \n",
       "4  0.447059 -0.020722 ...   0.165914  0.713913  0.829714  0.3760   \n",
       "\n",
       "        sum_enr    g_t3   g_pct1    f_pos1                  timestamp  psn  \n",
       "0  22452.305823  0.8516  0.10789  0.213541 2017-06-26 12:00:11.999995   39  \n",
       "1  22452.415190  0.8472  0.11142  0.216346 2017-06-26 12:10:00.000004   39  \n",
       "2  22452.642025  0.8476  0.11171  0.214744 2017-06-26 12:30:00.000003   39  \n",
       "3  22452.753418  0.8620  0.10986  0.214342 2017-06-26 12:39:59.999997   39  \n",
       "4  22452.866835  0.8788  0.10974  0.215144 2017-06-26 12:50:00.000002   39  \n",
       "\n",
       "[5 rows x 76 columns]"
      ]
     },
     "execution_count": 2,
     "metadata": {},
     "output_type": "execute_result"
    }
   ],
   "source": [
    "model_number = 2\n",
    "\n",
    "store = MachineDataStore('.config')\n",
    "\n",
    "model_data_hr = (store.query(model_number,'1hr')\n",
    "                 .not_null(['timestamp','psn'])\n",
    "                 .exclude_psn([44,52,54,70])\n",
    "                 .execute())\n",
    "\n",
    "model_data_min = (store.query(model_number,'10min')\n",
    "                  .not_null(['timestamp','psn'])\n",
    "                  .exclude_psn([44,52,54,70])\n",
    "                  .execute())\n",
    "\n",
    "model_data_min.head()"
   ]
  },
  {
   "cell_type": "code",
   "execution_count": 3,
   "metadata": {},
   "outputs": [
    {
     "data": {
      "text/plain": [
       "1602740"
      ]
     },
     "execution_count": 3,
     "metadata": {},
     "output_type": "execute_result"
    }
   ],
   "source": [
    "freq = '10min'\n",
    "model_data = model_data_min\n",
    "len(model_data)"
   ]
  },
  {
   "cell_type": "code",
   "execution_count": 4,
   "metadata": {
    "collapsed": true
   },
   "outputs": [],
   "source": [
    "skipped_cols = ['sum_esn','sum_eng_st', 'sum_eng_h']\n",
    "index_cols = ['id','timestamp','psn']\n",
    "data_cols = [c for c in model_data.columns if (c not in index_cols) and (c not in skipped_cols)]"
   ]
  },
  {
   "cell_type": "code",
   "execution_count": 5,
   "metadata": {
    "collapsed": true
   },
   "outputs": [],
   "source": [
    "missing_values = model_data.isnull().sum().sort_values()\n",
    "sparse_cols = [x for x in missing_values.index if missing_values[x] > 30000]\n",
    "clean_data_cols = [x for x in data_cols if x not in sparse_cols]"
   ]
  },
  {
   "cell_type": "code",
   "execution_count": 6,
   "metadata": {
    "collapsed": true
   },
   "outputs": [],
   "source": [
    "data = model_data[index_cols + clean_data_cols].dropna().reset_index()\n",
    "clean_data = StandardScaler().fit_transform(data[clean_data_cols])\n",
    "\n",
    "pca =  PCA().fit(clean_data)\n",
    "reduced = pca.transform(clean_data)"
   ]
  },
  {
   "cell_type": "code",
   "execution_count": 7,
   "metadata": {},
   "outputs": [
    {
     "name": "stdout",
     "output_type": "stream",
     "text": [
      "2015-12-05 00:10:00.000004\n",
      "2015-12-05 00:10:00\n"
     ]
    }
   ],
   "source": [
    "def roundTime(dt=None, roundTo=60):\n",
    "    \"\"\"Round a datetime object to any time laps in seconds\n",
    "    dt : datetime.datetime object, default now.\n",
    "    roundTo : Closest number of seconds to round to, default 1 minute.\n",
    "    Author: Thierry Husson 2012 - Use it as you want but don't blame me.\n",
    "    \"\"\"\n",
    "    if dt == None : dt = datetime.datetime.now()\n",
    "    seconds = (dt.replace(tzinfo=None) - dt.min).seconds\n",
    "    rounding = (seconds+roundTo/2) // roundTo * roundTo\n",
    "    return dt + datetime.timedelta(0,rounding-seconds,-dt.microsecond)\n",
    "n = datetime.datetime(2015,12,5,0,10,0,4)\n",
    "print(n)\n",
    "print(roundTime(n,600))"
   ]
  },
  {
   "cell_type": "code",
   "execution_count": 9,
   "metadata": {
    "collapsed": true,
    "scrolled": true
   },
   "outputs": [],
   "source": [
    "export_dir = '3hour/'\n",
    "span = '3_hour'\n",
    "def plot_cluster_distribution(psn=None):\n",
    "    plt.rcParams[\"figure.figsize\"] = (15,15)\n",
    "    fig = plt.figure(0)\n",
    "    ax1 = plt.subplot2grid((1,1), (0, 0))\n",
    "    ax1.bar(range(n_clusters),label_counts[:])\n",
    "    ax1.set_ylabel('Segment Count')\n",
    "    ax1.set_xlabel('Cluster')\n",
    "    plt.suptitle(\"Model {} Cluster Distributions for Eigenvector {}, {} Profiles\".format(model_number, 1, span))\n",
    "    plt.grid(\"on\")\n",
    "    fig.savefig(export_dir+\"model{}_{}_kmeans_{}_eig{}_{}_cluster_distribution.png\".format(model_number,psn, n_clusters,1, span))\n",
    "       \n",
    "    plt.show()\n",
    "    \n",
    "def plot_cluster_grid(psn=None):\n",
    "    plt.rcParams[\"figure.figsize\"] = (15,15)\n",
    "    plt.show()\n",
    "\n",
    "    grid_size = (n_clusters,1)\n",
    "    cluster_means = []\n",
    "\n",
    "    fig = plt.figure(0)\n",
    "    row = -1\n",
    "    shared_ax = None\n",
    "\n",
    "    for i,c in enumerate(labels_sorted_by_freq):\n",
    "        cluster_data = [to_be_clustered[j] for j in range(len(cluster.labels_)) if cluster.labels_[j] == c]\n",
    "        cluster_means.append(pd.DataFrame(cluster_data).mean())\n",
    "        \n",
    "        col = i%15\n",
    "        row = row if col > 0 else row+1\n",
    "        \n",
    "        ax = plt.subplot2grid((15,15), (row,col),sharey=shared_ax)\n",
    "        \n",
    "        ax.plot(pd.DataFrame(cluster_data).T,alpha=0.2, color='red')\n",
    "        plt.axis('off')\n",
    "        \n",
    "        if shared_ax is None:\n",
    "            shared_ax = ax     \n",
    "\n",
    "        \n",
    "    plt.suptitle(\"Model {} Eigenvector {}, {} Profiles\".format(model_number, 1, span))  \n",
    "    fig.savefig(export_dir+\"model{}_{}_kmeans_{}_eig{}_{}_cluster_grid.png\".format(model_number,psn, n_clusters,1, span, psn))\n",
    "    plt.close()\n",
    "    \n",
    "def plot_clusters(c_idx,psn=None):\n",
    "    plt.rcParams[\"figure.figsize\"] = (14, 7)\n",
    "    for i, c in enumerate(c_idx):\n",
    "        cluster_data = [to_be_clustered[j] for j in range(len(cluster.labels_)) if cluster.labels_[j] == c]\n",
    "                \n",
    "        fig = plt.figure(0)\n",
    "        ax = plt.subplot2grid((1,1), (0,0))\n",
    "        ax.plot(pd.DataFrame(cluster_data).T,alpha=0.2, color='red')\n",
    "        ax.set_xlabel('Time of Day')\n",
    "        plt.suptitle(\"Model {} Eigenvector {}, {} Cluster {} \".format(model_number, 1, i+1, span))  \n",
    "        fig.savefig(export_dir+\"model{}_{}_kmeans_{}_eig{}_{}_cluster{}.png\".format(model_number,psn, n_clusters,1, i+1, span))\n",
    "        plt.close()\n",
    "      "
   ]
  },
  {
   "cell_type": "code",
   "execution_count": null,
   "metadata": {
    "scrolled": false
   },
   "outputs": [
    {
     "name": "stdout",
     "output_type": "stream",
     "text": [
      "34 2018-05-02 08:47:14.443334\n",
      "\t time parsing done 2018-05-02 08:47:15.934129\n",
      "\t block grouping done 2018-05-02 08:47:26.227905\n",
      "\t block aggregating done 2018-05-02 08:48:08.555625\n"
     ]
    },
    {
     "data": {
      "image/png": "[encoded data removed]",
      "text/plain": [
       "<matplotlib.figure.Figure at 0x20a0d2088d0>"
      ]
     },
     "metadata": {},
     "output_type": "display_data"
    },
    {
     "name": "stdout",
     "output_type": "stream",
     "text": [
      "\t clustering done 2018-05-02 08:48:24.897506\n",
      "35 2018-05-02 08:48:24.897506\n",
      "\t time parsing done 2018-05-02 08:48:26.025669\n",
      "\t block grouping done 2018-05-02 08:48:33.470743\n",
      "\t block aggregating done 2018-05-02 08:48:56.751191\n"
     ]
    },
    {
     "data": {
      "image/png": "[encoded data removed]",
      "text/plain": [
       "<matplotlib.figure.Figure at 0x20a789d47b8>"
      ]
     },
     "metadata": {},
     "output_type": "display_data"
    },
    {
     "name": "stdout",
     "output_type": "stream",
     "text": [
      "\t clustering done 2018-05-02 08:49:08.069947\n",
      "36 2018-05-02 08:49:08.070973\n",
      "\t time parsing done 2018-05-02 08:49:09.231306\n"
     ]
    }
   ],
   "source": [
    "eigenvectors_to_segment = 1\n",
    "twelve_hour_segments = []\n",
    "\n",
    "def twelve_hour_group(x):\n",
    "    return str(x['iso'][0])+'-'+str(x['iso'][1])+'-'+str(x['iso'][2])+'-'+(str(int(x['hour']/3)))\n",
    "for i in range(eigenvectors_to_segment):\n",
    "    twelve_hour_segments.append([])\n",
    "    \n",
    "for psn in data['psn'].sort_values().unique():\n",
    "    print(str(psn), datetime.datetime.now())\n",
    "    psn_data = pd.DataFrame(data[(data['psn'] == psn)])\n",
    "    psn_data['timestamp'] = psn_data['timestamp'].apply(lambda x: roundTime(datetime.datetime(x.year,x.month,x.day,x.hour,x.minute,x.second),600))\n",
    "    psn_data['iso'] = psn_data['timestamp'].apply(lambda x: x.isocalendar())\n",
    "    psn_data['hour'] = psn_data['timestamp'].apply(lambda x: x.time().hour)\n",
    "    psn_data['minute'] = psn_data['timestamp'].apply(lambda x: x.time().minute)\n",
    "    \n",
    "    print('\\t time parsing done', datetime.datetime.now())\n",
    "    psn_data['twelve_hour_group'] = psn_data.apply(twelve_hour_group,1)\n",
    "    complete_groups = (psn_data.groupby(by=['twelve_hour_group']).count()['id'] == 18)\n",
    "    psn_data['complete_group'] = psn_data['twelve_hour_group'].apply(lambda x: complete_groups[x])\n",
    "    psn_data = psn_data[psn_data['complete_group'] == True]\n",
    "    print('\\t block grouping done', datetime.datetime.now())\n",
    "    psn_segments = [[],[],[],[]]\n",
    "    for d in psn_data['twelve_hour_group'].unique():\n",
    "        group_data = (psn_data[psn_data['twelve_hour_group'] == d]).sort_values(by='timestamp')\n",
    "        idx = group_data.index\n",
    "       \n",
    "        for i in range(eigenvectors_to_segment):\n",
    "            psn_segments[i].append([x for x in reduced[idx,i]])\n",
    "                \n",
    "            twelve_hour_segments[i].append(psn_segments[i])\n",
    "    print('\\t block aggregating done', datetime.datetime.now())\n",
    "    to_be_clustered = psn_segments[0]\n",
    "    n_clusters=45\n",
    "\n",
    "    if len(to_be_clustered) >= n_clusters:\n",
    "        cluster = KMeans(n_clusters)\n",
    "        cluster.fit(to_be_clustered)\n",
    "        label_df = pd.DataFrame(cluster.labels_)\n",
    "        label_counts = label_df[0].value_counts().sort_values(ascending=False)\n",
    "        labels_sorted_by_freq = list(label_counts.keys())\n",
    "\n",
    "        plot_cluster_distribution(psn)\n",
    "        plot_cluster_grid(psn)\n",
    "        if i == 0:\n",
    "            plot_clusters(labels_sorted_by_freq, psn)\n",
    "    print('\\t clustering done', datetime.datetime.now())\n",
    "    \n",
    "   \n",
    "   \n",
    " "
   ]
  },
  {
   "cell_type": "code",
   "execution_count": null,
   "metadata": {
    "collapsed": true
   },
   "outputs": [],
   "source": []
  }
 ],
 "metadata": {
  "kernelspec": {
   "display_name": "Python 3",
   "language": "python",
   "name": "python3"
  },
  "language_info": {
   "codemirror_mode": {
    "name": "ipython",
    "version": 3
   },
   "file_extension": ".py",
   "mimetype": "text/x-python",
   "name": "python",
   "nbconvert_exporter": "python",
   "pygments_lexer": "ipython3",
   "version": "3.6.3"
  }
 },
 "nbformat": 4,
 "nbformat_minor": 2
}
