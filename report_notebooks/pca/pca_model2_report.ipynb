{
 "cells": [
  {
   "cell_type": "code",
   "execution_count": 1,
   "metadata": {},
   "outputs": [
    {
     "data": {
      "text/html": [
       "<style>\n",
       "table {float:left}\n",
       "</style>"
      ],
      "text/plain": [
       "<IPython.core.display.HTML object>"
      ]
     },
     "metadata": {},
     "output_type": "display_data"
    }
   ],
   "source": [
    "%%html\n",
    "<style>\n",
    "table {float:left}\n",
    "</style>"
   ]
  },
  {
   "cell_type": "markdown",
   "metadata": {},
   "source": [
    "# Model 2 Principal Component Analysis\n",
    "\n",
    "- 74 total tags (features)\n",
    "- 38 different packages (psn)\n",
    "- 1 hour incremental data\n",
    "\n",
    "Data Dictionary: https://drive.google.com/open?id=1fhQj3VD0hvW81I9kGn8-1YCDL24VfZCK\n",
    "\n",
    "PCA was performed on sensor data for 38 different model 2 turbine packages. Each record included a package serial number, timestamp, and 74 features. 3 of the 74 features were dropped because of a high number of missing values. Each of the dropped features were derived from other features and highly correlated when populated. After removing these sparse tags, any record with nulls were dropped and PCA was performed. \n",
    "\n",
    "Plots below\n",
    "- Variance explained by each principal component\n",
    "- For the top 5 eigenvectors, plot the absolute values of eigenvalues and their associated tags, colored by tag measurement type.\n",
    "- For the top 5 eigenvectors, plot the absolute values of eigenvalues and their associated tags, colored by tag subsystem.\n",
    "- For each package, plot the top 5 eigenvector coefficients over time.\n"
   ]
  },
  {
   "cell_type": "markdown",
   "metadata": {},
   "source": [
    "## Missing Values\n",
    "\n",
    "**Bolded tags removed**\n",
    "\n",
    "| tag | missing |\n",
    "|--- | ---|\n",
    "|pe_c_dt1    |      29|\n",
    "|f_c_dp1     |     106|\n",
    "|g_c_dt1     |     284|\n",
    "|g_c_dt2     |     284|\n",
    "|b_p1        |    9724|\n",
    "|**sc_pct1**     |   **56907**|\n",
    "|**sc_pct2**     |   **56907**|\n",
    "|**sc_c_pct_e1** |   **91154**|\n",
    "\n"
   ]
  },
  {
   "cell_type": "markdown",
   "metadata": {},
   "source": [
    "## Variance Explained\n",
    "![alt text](model2_variance_explained.png \"Variance Explained\")"
   ]
  },
  {
   "cell_type": "markdown",
   "metadata": {},
   "source": [
    "## Absolute Value of Eigenvalues by Tag, Color by Measurement Type\n",
    "![alt text](model2_pc1_eigenvalues_color_by_measurement_type.png \"PC1\")\n",
    "![alt text](model2_pc2_eigenvalues_color_by_measurement_type.png \"PC2\")\n",
    "![alt text](model2_pc3_eigenvalues_color_by_measurement_type.png \"PC3\")\n",
    "![alt text](model2_pc4_eigenvalues_color_by_measurement_type.png \"PC4\")\n",
    "![alt text](model2_pc5_eigenvalues_color_by_measurement_type.png \"PC5\")"
   ]
  },
  {
   "cell_type": "markdown",
   "metadata": {},
   "source": [
    "## Absolute Value of Eigenvalues by Tag, Color by Subsystem\n",
    "\n",
    "![alt text](model1_pc1_eigenvalues_color_by_subsystem.png \"PC1\")\n",
    "![alt text](model1_pc2_eigenvalues_color_by_subsystem.png \"PC2\")\n",
    "![alt text](model1_pc3_eigenvalues_color_by_subsystem.png \"PC3\")\n",
    "![alt text](model1_pc4_eigenvalues_color_by_subsystem.png \"PC4\")\n",
    "![alt text](model1_pc5_eigenvalues_color_by_subsystem.png \"PC5\")"
   ]
  },
  {
   "cell_type": "markdown",
   "metadata": {},
   "source": [
    "## Eigenvector Coefficients by Package and Time\n",
    "\n",
    "![alt text](model2_psn34_coefficients_by_time.png \"Title\")\n",
    "![alt text](model2_psn35_coefficients_by_time.png \"Title\")\n",
    "![alt text](model2_psn36_coefficients_by_time.png \"Title\")\n",
    "![alt text](model2_psn37_coefficients_by_time.png \"Title\")\n",
    "![alt text](model2_psn38_coefficients_by_time.png \"Title\")\n",
    "![alt text](model2_psn39_coefficients_by_time.png \"Title\")\n",
    "![alt text](model2_psn40_coefficients_by_time.png \"Title\")\n",
    "![alt text](model2_psn41_coefficients_by_time.png \"Title\")\n",
    "![alt text](model2_psn42_coefficients_by_time.png \"Title\")\n",
    "![alt text](model2_psn44_coefficients_by_time.png \"Title\")\n",
    "![alt text](model2_psn45_coefficients_by_time.png \"Title\")\n",
    "![alt text](model2_psn46_coefficients_by_time.png \"Title\")\n",
    "![alt text](model2_psn47_coefficients_by_time.png \"Title\")\n",
    "![alt text](model2_psn48_coefficients_by_time.png \"Title\")\n",
    "![alt text](model2_psn49_coefficients_by_time.png \"Title\")\n",
    "![alt text](model2_psn50_coefficients_by_time.png \"Title\")\n",
    "![alt text](model2_psn51_coefficients_by_time.png \"Title\")\n",
    "![alt text](model2_psn52_coefficients_by_time.png \"Title\")\n",
    "![alt text](model2_psn53_coefficients_by_time.png \"Title\")\n",
    "![alt text](model2_psn54_coefficients_by_time.png \"Title\")\n",
    "![alt text](model2_psn55_coefficients_by_time.png \"Title\")\n",
    "![alt text](model2_psn56_coefficients_by_time.png \"Title\")\n",
    "![alt text](model2_psn57_coefficients_by_time.png \"Title\")\n",
    "![alt text](model2_psn58_coefficients_by_time.png \"Title\")\n",
    "![alt text](model2_psn59_coefficients_by_time.png \"Title\")\n",
    "![alt text](model2_psn60_coefficients_by_time.png \"Title\")\n",
    "![alt text](model2_psn61_coefficients_by_time.png \"Title\")\n",
    "![alt text](model2_psn62_coefficients_by_time.png \"Title\")\n",
    "![alt text](model2_psn63_coefficients_by_time.png \"Title\")\n",
    "![alt text](model2_psn64_coefficients_by_time.png \"Title\")\n",
    "![alt text](model2_psn65_coefficients_by_time.png \"Title\")\n",
    "![alt text](model2_psn66_coefficients_by_time.png \"Title\")\n",
    "![alt text](model2_psn67_coefficients_by_time.png \"Title\")\n",
    "![alt text](model2_psn68_coefficients_by_time.png \"Title\")\n",
    "![alt text](model2_psn69_coefficients_by_time.png \"Title\")\n",
    "![alt text](model2_psn70_coefficients_by_time.png \"Title\")\n",
    "![alt text](model2_psn71_coefficients_by_time.png \"Title\")\n",
    "![alt text](model2_psn72_coefficients_by_time.png \"Title\")"
   ]
  },
  {
   "cell_type": "code",
   "execution_count": null,
   "metadata": {
    "collapsed": true
   },
   "outputs": [],
   "source": []
  }
 ],
 "metadata": {
  "kernelspec": {
   "display_name": "Python 3",
   "language": "python",
   "name": "python3"
  },
  "language_info": {
   "codemirror_mode": {
    "name": "ipython",
    "version": 3
   },
   "file_extension": ".py",
   "mimetype": "text/x-python",
   "name": "python",
   "nbconvert_exporter": "python",
   "pygments_lexer": "ipython3",
   "version": "3.6.3"
  }
 },
 "nbformat": 4,
 "nbformat_minor": 2
}
