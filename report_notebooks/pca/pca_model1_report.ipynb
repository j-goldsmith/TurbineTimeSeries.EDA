{
 "cells": [
  {
   "cell_type": "code",
   "execution_count": 1,
   "metadata": {},
   "outputs": [
    {
     "data": {
      "text/html": [
       "<style>\n",
       "table {float:left}\n",
       "</style>"
      ],
      "text/plain": [
       "<IPython.core.display.HTML object>"
      ]
     },
     "metadata": {},
     "output_type": "display_data"
    }
   ],
   "source": [
    "%%html\n",
    "<style>\n",
    "table {float:left}\n",
    "</style>"
   ]
  },
  {
   "cell_type": "markdown",
   "metadata": {},
   "source": [
    "# Model 1 Principal Component Analysis\n",
    "\n",
    "- 142 total tags (features)\n",
    "- 32 different packages (psn)\n",
    "- 1 hour incremental data\n",
    "\n",
    "Data Dictionary: https://drive.google.com/open?id=1fhQj3VD0hvW81I9kGn8-1YCDL24VfZCK\n",
    "\n",
    "PCA was performed on sensor data for 32 different model 1 turbine packages. Each record included a package serial number, timestamp, and 142 features. 7 of the 142 features were dropped because of a high number of missing values. Each of the dropped features were derived from other features and highly correlated when populated. After removing these sparse tags, any record with nulls were dropped and PCA was performed. \n",
    "\n",
    "Plots below\n",
    "- Variance explained by each principal component\n",
    "- For the top 5 eigenvectors, plot the absolute values of eigenvalues and their associated tags, colored by tag measurement type.\n",
    "- For the top 5 eigenvectors, plot the absolute values of eigenvalues and their associated tags, colored by tag subsystem.\n",
    "- For each package, plot the top 5 eigenvector coefficients over time.\n"
   ]
  },
  {
   "cell_type": "markdown",
   "metadata": {},
   "source": [
    "## Missing Values\n",
    "\n",
    "**Bolded tags removed**\n",
    "\n",
    "| tag | missing |\n",
    "|--- | ---|\n",
    "|perf_c_pr1  |       8|\n",
    "|pe_for2      |     70|\n",
    "|c_dt5_8       |    70|\n",
    "|t2_s1          |   70|\n",
    "|t5_8           |   70|\n",
    "|t2_2           |   70|\n",
    "|c_c_t5_3       |  116|\n",
    "|c_c_t5_1       |  116|\n",
    "|c_c_t5_2      |   116|\n",
    "|t5_s1         |   116|\n",
    "|t1_1          |  2853|\n",
    "|perf_c_p5     |  3353|\n",
    "|perf_c_pr2    |  3353|\n",
    "|**sc_pct2**  |      **30561**|\n",
    "|**sc_pct1**    |    **31088**|\n",
    "|**c_dt7_3**      |  **50726**|\n",
    "|**c_dt7_2**     |   **50726**|\n",
    "|**c_dt7_1**     |   **50726**|\n",
    "|**c_dt7_4**     |   **50726**|\n",
    "|**vsc_c_pct_e1** |   **83730**|\n",
    "\n"
   ]
  },
  {
   "cell_type": "markdown",
   "metadata": {},
   "source": [
    "## Variance Explained\n",
    "![alt text](model1_variance_explained.png \"Variance Explained\")"
   ]
  },
  {
   "cell_type": "markdown",
   "metadata": {},
   "source": [
    "## Absolute Value of Eigenvalues by Tag, Color by Measurement Type\n",
    "\n",
    "![alt text](model1_pc1_eigenvalues_color_by_measurement.png \"PC1\")\n",
    "![alt text](model1_pc2_eigenvalues_color_by_measurement.png \"PC2\")\n",
    "![alt text](model1_pc3_eigenvalues_color_by_measurement.png \"PC3\")\n",
    "![alt text](model1_pc4_eigenvalues_color_by_measurement.png \"PC4\")\n",
    "![alt text](model1_pc5_eigenvalues_color_by_measurement.png \"PC5\")"
   ]
  },
  {
   "cell_type": "markdown",
   "metadata": {},
   "source": [
    "## Absolute Value of Eigenvalues by Tag, Color by Subsystem\n",
    "\n",
    "![alt text](model1_pc1_eigenvalues_color_by_subsystem.png \"PC1\")\n",
    "![alt text](model1_pc2_eigenvalues_color_by_subsystem.png \"PC2\")\n",
    "![alt text](model1_pc3_eigenvalues_color_by_subsystem.png \"PC3\")\n",
    "![alt text](model1_pc4_eigenvalues_color_by_subsystem.png \"PC4\")\n",
    "![alt text](model1_pc5_eigenvalues_color_by_subsystem.png \"PC5\")"
   ]
  },
  {
   "cell_type": "markdown",
   "metadata": {},
   "source": [
    "## Eigenvector Coefficients by Package and Time\n",
    "\n",
    "![alt text](model1_psn1_coefficients_by_time.png \"Title\")\n",
    "![alt text](model1_psn2_coefficients_by_time.png \"Title\")\n",
    "![alt text](model1_psn3_coefficients_by_time.png \"Title\")\n",
    "![alt text](model1_psn4_coefficients_by_time.png \"Title\")\n",
    "![alt text](model1_psn5_coefficients_by_time.png \"Title\")\n",
    "![alt text](model1_psn6_coefficients_by_time.png \"Title\")\n",
    "![alt text](model1_psn7_coefficients_by_time.png \"Title\")\n",
    "![alt text](model1_psn8_coefficients_by_time.png \"Title\")\n",
    "![alt text](model1_psn9_coefficients_by_time.png \"Title\")\n",
    "![alt text](model1_psn10_coefficients_by_time.png \"Title\")\n",
    "![alt text](model1_psn11_coefficients_by_time.png \"Title\")\n",
    "![alt text](model1_psn12_coefficients_by_time.png \"Title\")\n",
    "![alt text](model1_psn13_coefficients_by_time.png \"Title\")\n",
    "![alt text](model1_psn14_coefficients_by_time.png \"Title\")\n",
    "![alt text](model1_psn15_coefficients_by_time.png \"Title\")\n",
    "![alt text](model1_psn16_coefficients_by_time.png \"Title\")\n",
    "![alt text](model1_psn17_coefficients_by_time.png \"Title\")\n",
    "![alt text](model1_psn18_coefficients_by_time.png \"Title\")\n",
    "![alt text](model1_psn19_coefficients_by_time.png \"Title\")\n",
    "![alt text](model1_psn20_coefficients_by_time.png \"Title\")\n",
    "![alt text](model1_psn21_coefficients_by_time.png \"Title\")\n",
    "![alt text](model1_psn22_coefficients_by_time.png \"Title\")\n",
    "![alt text](model1_psn23_coefficients_by_time.png \"Title\")\n",
    "![alt text](model1_psn24_coefficients_by_time.png \"Title\")\n",
    "![alt text](model1_psn25_coefficients_by_time.png \"Title\")\n",
    "![alt text](model1_psn26_coefficients_by_time.png \"Title\")\n",
    "![alt text](model1_psn27_coefficients_by_time.png \"Title\")\n",
    "![alt text](model1_psn28_coefficients_by_time.png \"Title\")\n",
    "![alt text](model1_psn29_coefficients_by_time.png \"Title\")\n",
    "![alt text](model1_psn30_coefficients_by_time.png \"Title\")\n",
    "![alt text](model1_psn31_coefficients_by_time.png \"Title\")\n",
    "![alt text](model1_psn33_coefficients_by_time.png \"Title\")"
   ]
  },
  {
   "cell_type": "code",
   "execution_count": null,
   "metadata": {
    "collapsed": true
   },
   "outputs": [],
   "source": []
  }
 ],
 "metadata": {
  "kernelspec": {
   "display_name": "Python 3",
   "language": "python",
   "name": "python3"
  },
  "language_info": {
   "codemirror_mode": {
    "name": "ipython",
    "version": 3
   },
   "file_extension": ".py",
   "mimetype": "text/x-python",
   "name": "python",
   "nbconvert_exporter": "python",
   "pygments_lexer": "ipython3",
   "version": "3.6.3"
  }
 },
 "nbformat": 4,
 "nbformat_minor": 2
}
