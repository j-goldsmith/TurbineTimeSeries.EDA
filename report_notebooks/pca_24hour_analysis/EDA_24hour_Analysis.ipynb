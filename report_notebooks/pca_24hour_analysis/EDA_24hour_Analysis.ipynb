{
 "cells": [
  {
   "cell_type": "markdown",
   "metadata": {},
   "source": [
    "## 3. Is it really true that the change between days is larger than the the changes within a day? That is surprising, and suggest that the pattern has more to do with some longer term trends.\n",
    "\n",
    "It seems to depend on the day. In an effort to summarize 24 hour coefficient segments, I generated the below plots with this process:\n",
    "\n",
    "Using Model 2 10-minute data \n",
    "- Drop sparse packages without any complete days\n",
    "- Drop engine starts and engine hour tags\n",
    "- Drop records with any nulls\n",
    "- PCA on remaining sensor data\n",
    "- For each of the top 4 eigenvectors \n",
    "   - Compile all complete 24 hour data samples, vectors of length 144 \n",
    "   - Run KMeans on the samples for 5 to 225 clusters (step 5)\n",
    "\n",
    "For each of the top 4 eigenvectors there is a cluster distribution histogram and a 15x15 grid of sparklines showing the general 24-hour shape of each of the 225 clusters. The sparkline grid is ordered left to right, top to bottom from largest cluster to smallest. All plots share an X and Y axis. \n",
    "\n",
    "Model 2 was chosen because they all have the same general use-case as power generators and the data set is more complete than Model 1. The amount of 10 minute data was reasonable to work with on a laptop.\n",
    "\n",
    "Starting with Eigenvector 1, there appears to be three main groups of patterns. \n",
    "- The largest one dominates the top 3 rows of clusters and likely represents normal operating. Some of these groups show regular 24-hour patterns, visible but not highlighted in these plots. Others are more flat, staying in the same range all day. \n",
    "- The second group shows abrupt shifts in the coefficient. These are the long tail of the cluster distribution. Both drops and rises in value all seem to share similar shape, just occurring at different times of day and lasting different lengths. We're hypothesizing these represent transient states (ie, the package moving from low operational mode to high). \n",
    "- The third group is of highly erratic values and only just starts showing up in the last 3 rows of clusters. Many segments fitting into this pattern are still clustered in the top 3 rows and chaotic enough to not get grouped together. \n",
    "\n",
    "Eigenvectors 2 through 4 show the same patterns but with the second, abrupt pattern group showing less and less influence. \n",
    "\n",
    "We propose each type of pattern be modeled separately.\n",
    "\n"
   ]
  },
  {
   "cell_type": "markdown",
   "metadata": {},
   "source": [
    "### Eigenvector 1, Clustering 24-hour coefficient segments\n",
    "\n",
    "![](model2_kmeans_225_eig1_cluster_distribution.png)\n",
    "![](model2_kmeans_225_eig1_cluster_grid.png)"
   ]
  },
  {
   "cell_type": "markdown",
   "metadata": {},
   "source": [
    "### Eigenvector 2, Clustering 24-hour coefficient segments\n",
    "\n",
    "![alt text](model2_kmeans_225_eig2_cluster_distribution.png)\n",
    "![alt text](model2_kmeans_225_eig2_cluster_grid.png)"
   ]
  },
  {
   "cell_type": "markdown",
   "metadata": {},
   "source": [
    "### Eigenvector 3, Clustering 24-hour coefficient segments\n",
    "\n",
    "![alt text](model2_kmeans_225_eig3_cluster_distribution.png)\n",
    "![alt text](model2_kmeans_225_eig3_cluster_grid.png)"
   ]
  },
  {
   "cell_type": "markdown",
   "metadata": {},
   "source": [
    "### Eigenvector 4, Clustering 24-hour coefficient segments\n",
    "\n",
    "![alt text](model2_kmeans_225_eig4_cluster_distribution.png)\n",
    "![alt text](model2_kmeans_225_eig4_cluster_grid.png)"
   ]
  },
  {
   "cell_type": "markdown",
   "metadata": {},
   "source": [
    "### Sample 24 hour Clusters from Eigenvector 1\n",
    "These plots are fullsized examples of clusters from Eigenvector 1. The first shows what we consider normal operating mode. The second shows a cluster with four mode changes.\n",
    "\n",
    "![](model2_kmeans_225_eig1_cluster4.png)\n",
    "![](model2_kmeans_225_eig1_cluster63.png)"
   ]
  },
  {
   "cell_type": "code",
   "execution_count": null,
   "metadata": {
    "collapsed": true
   },
   "outputs": [],
   "source": []
  }
 ],
 "metadata": {
  "kernelspec": {
   "display_name": "Python 3",
   "language": "python",
   "name": "python3"
  },
  "language_info": {
   "codemirror_mode": {
    "name": "ipython",
    "version": 3
   },
   "file_extension": ".py",
   "mimetype": "text/x-python",
   "name": "python",
   "nbconvert_exporter": "python",
   "pygments_lexer": "ipython3",
   "version": "3.6.3"
  }
 },
 "nbformat": 4,
 "nbformat_minor": 2
}
